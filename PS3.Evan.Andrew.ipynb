{
 "cells": [
  {
   "cell_type": "code",
   "execution_count": 1,
   "metadata": {
    "collapsed": true
   },
   "outputs": [],
   "source": [
    "import random\n",
    "import numpy\n",
    "import scipy.special"
   ]
  },
  {
   "cell_type": "code",
   "execution_count": 2,
   "metadata": {},
   "outputs": [
    {
     "name": "stdout",
     "output_type": "stream",
     "text": [
      "[[20, 7, 1], [12, 3, 0], [13, 9, 1], [18, 17, 1], [16, 16, 1], [14, 20, 1], [7, 13, 1], [14, 9, 1], [4, 13, 1], [10, 9, 1], [15, 17, 1], [9, 9, 1], [11, 18, 1], [9, 10, 0], [20, 7, 1], [1, 17, 1], [2, 3, 0], [4, 5, 0], [2, 15, 0], [13, 17, 1], [18, 6, 1], [8, 7, 0], [18, 5, 0], [20, 20, 0], [7, 18, 1], [20, 18, 1], [2, 3, 0], [12, 15, 0], [12, 12, 1], [10, 8, 1], [11, 5, 1], [13, 4, 1], [10, 16, 1], [17, 17, 1], [2, 11, 0], [6, 15, 1], [14, 5, 1], [17, 11, 0], [6, 1, 0], [7, 8, 1], [17, 12, 1], [14, 14, 1], [7, 15, 1], [8, 16, 1], [20, 5, 1], [6, 16, 1], [14, 15, 1], [16, 20, 1], [19, 17, 1], [14, 20, 1], [16, 19, 1], [6, 9, 1], [14, 12, 1], [10, 10, 1], [2, 7, 0], [14, 12, 1], [13, 5, 1], [10, 9, 1], [9, 4, 0], [3, 9, 0], [3, 11, 0], [2, 20, 0], [10, 19, 1], [14, 13, 1], [4, 17, 0], [13, 11, 1], [4, 19, 1], [6, 20, 1], [5, 19, 1], [11, 12, 1], [12, 11, 1], [19, 5, 1], [17, 16, 1], [10, 9, 1], [14, 2, 1], [9, 3, 0], [6, 11, 1], [1, 10, 0], [12, 7, 1], [17, 2, 0], [9, 5, 0], [2, 19, 0], [16, 14, 1], [3, 18, 1], [10, 13, 1], [15, 2, 0], [20, 17, 1], [18, 12, 1], [8, 4, 0], [19, 4, 1], [8, 13, 1], [14, 7, 1], [6, 16, 1], [15, 11, 1], [17, 15, 1], [5, 5, 0], [19, 9, 0], [6, 8, 0], [4, 12, 0], [20, 15, 1]]\n"
     ]
    }
   ],
   "source": [
    "#AML Exercise 3.2\n",
    "\n",
    "#data\n",
    "N = 100\n",
    "data = []\n",
    "\n",
    "def target_function(x1, x2):\n",
    "    y = 0\n",
    "    if (x1 * x2) > 50:\n",
    "        y = 1\n",
    "    return y\n",
    "\n",
    "for n in range(N):\n",
    "    x1 = random.randint(1,20)\n",
    "    x2 = random.randint(1,20)\n",
    "    data.append([x1, x2, target_function(x1, x2)])\n",
    "    \n",
    "#print(data)\n",
    "\n",
    "switch_set = set()\n",
    "\n",
    "while (len(switch_set) < 10):\n",
    "    len_start = len(switch_set)\n",
    "    temp = random.randint(0,99)\n",
    "    switch_set.add(temp)\n",
    "    if (len_start != len(switch_set)):\n",
    "        if data[temp][2] == 0:\n",
    "            data[temp][2] = 1\n",
    "        else:\n",
    "            data[temp][2] = 0\n",
    "            \n",
    "#print(switch_set)\n",
    "print(data)"
   ]
  },
  {
   "cell_type": "code",
   "execution_count": 3,
   "metadata": {
    "collapsed": true
   },
   "outputs": [],
   "source": [
    "import numpy as np\n",
    "\n",
    "class Perceptron(object):\n",
    "\n",
    "    def __init__(self, no_of_inputs, threshold=100, learning_rate=0.01):\n",
    "        self.threshold = threshold\n",
    "        self.learning_rate = learning_rate\n",
    "        self.weights = np.zeros(no_of_inputs + 1)\n",
    "           \n",
    "    def predict(self, inputs):\n",
    "        summation = np.dot(inputs, self.weights[1:]) + self.weights[0]\n",
    "        if summation > 0:\n",
    "            activation = 1\n",
    "        else:\n",
    "            activation = 0            \n",
    "        return activation\n",
    "\n",
    "    def train(self, training_inputs, labels):\n",
    "        for _ in range(self.threshold):\n",
    "            for inputs, label in zip(training_inputs, labels):\n",
    "                prediction = self.predict(inputs)\n",
    "                self.weights[1:] += self.learning_rate * (label - prediction) * inputs\n",
    "                self.weights[0] += self.learning_rate * (label - prediction)"
   ]
  },
  {
   "cell_type": "code",
   "execution_count": 6,
   "metadata": {},
   "outputs": [],
   "source": [
    "T = 1000\n",
    "\n",
    "nn = Perceptron(N)\n",
    "x_data = []\n",
    "y_data = []\n",
    "for i in range(N):\n",
    "    x_data.append(data[i][0:2])\n",
    "    y_data.append(data[i][2])\n",
    "#print(x_data)\n",
    "#print(y_data)\n",
    "\n",
    "test_size = N*.2\n",
    "test_set = set()\n",
    "x_train = []\n",
    "x_test = []\n",
    "y_train = []\n",
    "y_test = []\n",
    "\n",
    "#creating test data set\n",
    "while (len(test_set) < test_size):\n",
    "    len_start = len(test_set)\n",
    "    temp = random.randint(0,99)\n",
    "    test_set.add(temp)\n",
    "    if (len_start != len(test_set)):\n",
    "        x_test.append(x_data[temp])\n",
    "        y_test.append(y_data[temp])\n",
    "\n",
    "#creates training data set\n",
    "for i in range(N):\n",
    "    if i not in test_set:\n",
    "        x_train.append(x_data[i])\n",
    "        y_train.append(y_data[i])\n",
    "\n",
    "#print(x_test)\n",
    "#print(x_train)\n",
    "#print(y_test)\n",
    "#print(y_train)"
   ]
  },
  {
   "cell_type": "code",
   "execution_count": 7,
   "metadata": {},
   "outputs": [
    {
     "ename": "ValueError",
     "evalue": "shapes (2,) and (100,) not aligned: 2 (dim 0) != 100 (dim 0)",
     "output_type": "error",
     "traceback": [
      "\u001b[1;31m---------------------------------------------------------------------------\u001b[0m",
      "\u001b[1;31mValueError\u001b[0m                                Traceback (most recent call last)",
      "\u001b[1;32m<ipython-input-7-89c1270b882e>\u001b[0m in \u001b[0;36m<module>\u001b[1;34m()\u001b[0m\n\u001b[1;32m----> 1\u001b[1;33m \u001b[0mnn\u001b[0m\u001b[1;33m.\u001b[0m\u001b[0mtrain\u001b[0m\u001b[1;33m(\u001b[0m\u001b[0mx_train\u001b[0m\u001b[1;33m,\u001b[0m \u001b[0my_train\u001b[0m\u001b[1;33m)\u001b[0m\u001b[1;33m\u001b[0m\u001b[0m\n\u001b[0m",
      "\u001b[1;32m<ipython-input-3-bd5c9458fb3d>\u001b[0m in \u001b[0;36mtrain\u001b[1;34m(self, training_inputs, labels)\u001b[0m\n\u001b[0;32m     19\u001b[0m         \u001b[1;32mfor\u001b[0m \u001b[0m_\u001b[0m \u001b[1;32min\u001b[0m \u001b[0mrange\u001b[0m\u001b[1;33m(\u001b[0m\u001b[0mself\u001b[0m\u001b[1;33m.\u001b[0m\u001b[0mthreshold\u001b[0m\u001b[1;33m)\u001b[0m\u001b[1;33m:\u001b[0m\u001b[1;33m\u001b[0m\u001b[0m\n\u001b[0;32m     20\u001b[0m             \u001b[1;32mfor\u001b[0m \u001b[0minputs\u001b[0m\u001b[1;33m,\u001b[0m \u001b[0mlabel\u001b[0m \u001b[1;32min\u001b[0m \u001b[0mzip\u001b[0m\u001b[1;33m(\u001b[0m\u001b[0mtraining_inputs\u001b[0m\u001b[1;33m,\u001b[0m \u001b[0mlabels\u001b[0m\u001b[1;33m)\u001b[0m\u001b[1;33m:\u001b[0m\u001b[1;33m\u001b[0m\u001b[0m\n\u001b[1;32m---> 21\u001b[1;33m                 \u001b[0mprediction\u001b[0m \u001b[1;33m=\u001b[0m \u001b[0mself\u001b[0m\u001b[1;33m.\u001b[0m\u001b[0mpredict\u001b[0m\u001b[1;33m(\u001b[0m\u001b[0minputs\u001b[0m\u001b[1;33m)\u001b[0m\u001b[1;33m\u001b[0m\u001b[0m\n\u001b[0m\u001b[0;32m     22\u001b[0m                 \u001b[0mself\u001b[0m\u001b[1;33m.\u001b[0m\u001b[0mweights\u001b[0m\u001b[1;33m[\u001b[0m\u001b[1;36m1\u001b[0m\u001b[1;33m:\u001b[0m\u001b[1;33m]\u001b[0m \u001b[1;33m+=\u001b[0m \u001b[0mself\u001b[0m\u001b[1;33m.\u001b[0m\u001b[0mlearning_rate\u001b[0m \u001b[1;33m*\u001b[0m \u001b[1;33m(\u001b[0m\u001b[0mlabel\u001b[0m \u001b[1;33m-\u001b[0m \u001b[0mprediction\u001b[0m\u001b[1;33m)\u001b[0m \u001b[1;33m*\u001b[0m \u001b[0minputs\u001b[0m\u001b[1;33m\u001b[0m\u001b[0m\n\u001b[0;32m     23\u001b[0m                 \u001b[0mself\u001b[0m\u001b[1;33m.\u001b[0m\u001b[0mweights\u001b[0m\u001b[1;33m[\u001b[0m\u001b[1;36m0\u001b[0m\u001b[1;33m]\u001b[0m \u001b[1;33m+=\u001b[0m \u001b[0mself\u001b[0m\u001b[1;33m.\u001b[0m\u001b[0mlearning_rate\u001b[0m \u001b[1;33m*\u001b[0m \u001b[1;33m(\u001b[0m\u001b[0mlabel\u001b[0m \u001b[1;33m-\u001b[0m \u001b[0mprediction\u001b[0m\u001b[1;33m)\u001b[0m\u001b[1;33m\u001b[0m\u001b[0m\n",
      "\u001b[1;32m<ipython-input-3-bd5c9458fb3d>\u001b[0m in \u001b[0;36mpredict\u001b[1;34m(self, inputs)\u001b[0m\n\u001b[0;32m      9\u001b[0m \u001b[1;33m\u001b[0m\u001b[0m\n\u001b[0;32m     10\u001b[0m     \u001b[1;32mdef\u001b[0m \u001b[0mpredict\u001b[0m\u001b[1;33m(\u001b[0m\u001b[0mself\u001b[0m\u001b[1;33m,\u001b[0m \u001b[0minputs\u001b[0m\u001b[1;33m)\u001b[0m\u001b[1;33m:\u001b[0m\u001b[1;33m\u001b[0m\u001b[0m\n\u001b[1;32m---> 11\u001b[1;33m         \u001b[0msummation\u001b[0m \u001b[1;33m=\u001b[0m \u001b[0mnp\u001b[0m\u001b[1;33m.\u001b[0m\u001b[0mdot\u001b[0m\u001b[1;33m(\u001b[0m\u001b[0minputs\u001b[0m\u001b[1;33m,\u001b[0m \u001b[0mself\u001b[0m\u001b[1;33m.\u001b[0m\u001b[0mweights\u001b[0m\u001b[1;33m[\u001b[0m\u001b[1;36m1\u001b[0m\u001b[1;33m:\u001b[0m\u001b[1;33m]\u001b[0m\u001b[1;33m)\u001b[0m \u001b[1;33m+\u001b[0m \u001b[0mself\u001b[0m\u001b[1;33m.\u001b[0m\u001b[0mweights\u001b[0m\u001b[1;33m[\u001b[0m\u001b[1;36m0\u001b[0m\u001b[1;33m]\u001b[0m\u001b[1;33m\u001b[0m\u001b[0m\n\u001b[0m\u001b[0;32m     12\u001b[0m         \u001b[1;32mif\u001b[0m \u001b[0msummation\u001b[0m \u001b[1;33m>\u001b[0m \u001b[1;36m0\u001b[0m\u001b[1;33m:\u001b[0m\u001b[1;33m\u001b[0m\u001b[0m\n\u001b[0;32m     13\u001b[0m             \u001b[0mactivation\u001b[0m \u001b[1;33m=\u001b[0m \u001b[1;36m1\u001b[0m\u001b[1;33m\u001b[0m\u001b[0m\n",
      "\u001b[1;32m<__array_function__ internals>\u001b[0m in \u001b[0;36mdot\u001b[1;34m(*args, **kwargs)\u001b[0m\n",
      "\u001b[1;31mValueError\u001b[0m: shapes (2,) and (100,) not aligned: 2 (dim 0) != 100 (dim 0)"
     ]
    }
   ],
   "source": [
    "nn.train(x_train, y_train)"
   ]
  },
  {
   "cell_type": "code",
   "execution_count": null,
   "metadata": {
    "collapsed": true
   },
   "outputs": [],
   "source": []
  }
 ],
 "metadata": {
  "kernelspec": {
   "display_name": "Python 3",
   "language": "python",
   "name": "python3"
  },
  "language_info": {
   "codemirror_mode": {
    "name": "ipython",
    "version": 3
   },
   "file_extension": ".py",
   "mimetype": "text/x-python",
   "name": "python",
   "nbconvert_exporter": "python",
   "pygments_lexer": "ipython3",
   "version": "3.6.3"
  }
 },
 "nbformat": 4,
 "nbformat_minor": 2
}
